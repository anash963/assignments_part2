{
 "cells": [
  {
   "cell_type": "markdown",
   "metadata": {},
   "source": [
    "# Task 1:"
   ]
  },
  {
   "cell_type": "code",
   "execution_count": 1,
   "metadata": {},
   "outputs": [],
   "source": [
    "import numpy as np"
   ]
  },
  {
   "cell_type": "markdown",
   "metadata": {},
   "source": [
    "Problem Statement \n",
    "\n",
    "\"\"\"\n",
    "Problem Statement 1: You survey households in your area to find the average rent they are paying. Find the standard deviation from the following data: $1550, $1700, $900, $850, $1000, $950.\n",
    "Problem Statement 2: Find the variance for the following set of data representing trees in California (heights in feet): 3, 21, 98, 203, 17, 9\n",
    "Problem Statement 3: In a class on 100 students, 80 students passed in all subjects, 10 failed in one subject, 7 failed in two subjects and 3 failed in three subjects. Find the probability distribution of the variable for number of subjects a student from the given class has failed in.\n",
    "\"\"\""
   ]
  },
  {
   "cell_type": "markdown",
   "metadata": {},
   "source": [
    "# Problem Statement 1: \n",
    "You survey households in your area to find the average rent they are paying. Find the standard deviation from the following data: $1550, $1700, $900, $850, $1000, $950."
   ]
  },
  {
   "cell_type": "code",
   "execution_count": 2,
   "metadata": {},
   "outputs": [
    {
     "name": "stdout",
     "output_type": "stream",
     "text": [
      "Average rent paid by the householdsfor the sample information collected :  1155.56\n",
      "The limits of data perating to rent paid by the houesholds is +/- : 320.11\n"
     ]
    }
   ],
   "source": [
    "x = [1550,1550,1700, 900,900,850, 1000,1000,950]\n",
    "Avg_rent_paid = np.mean(x)\n",
    "std_dev = np.std(x)\n",
    "\n",
    "print('Average rent paid by the householdsfor the sample information collected :  {:0.2f}'.format(Avg_rent_paid))\n",
    "print('The limits of data perating to rent paid by the houesholds is +/- : {:0.2f}'.format(std_dev))"
   ]
  },
  {
   "cell_type": "markdown",
   "metadata": {},
   "source": [
    "# Problem Statement 2: \n",
    "Find the variance for the following set of data representing trees in California (heights in feet): 3, 21, 98, 203, 17, 9"
   ]
  },
  {
   "cell_type": "code",
   "execution_count": 3,
   "metadata": {},
   "outputs": [
    {
     "name": "stdout",
     "output_type": "stream",
     "text": [
      "The spread of data pertaining to the height of trees is : 5183.25\n"
     ]
    }
   ],
   "source": [
    "#x : height of trees in feet\n",
    "x = [3, 21, 98, 203, 17, 9]\n",
    "variance = np.var(x)\n",
    "\n",
    "print(\"The spread of data pertaining to the height of trees is : {:0.2f}\".format(variance))"
   ]
  },
  {
   "cell_type": "markdown",
   "metadata": {},
   "source": [
    "# Problem Statement 3: \n",
    "In a class on 100 students, 80 students passed in all subjects, 10 failed in one subject, 7 failed in two subjects and 3 failed in three subjects. Find the probability distribution of the variable for number of subjects a student from the given class has failed in."
   ]
  },
  {
   "cell_type": "code",
   "execution_count": 4,
   "metadata": {},
   "outputs": [
    {
     "name": "stdout",
     "output_type": "stream",
     "text": [
      "Probability failed in no subjects:  0.8\n",
      "Probability failed in 1 subject:  0.1\n",
      "Probability failed in 2 subjects:  0.07\n",
      "Probability failed in 3 subjects:  0.03\n"
     ]
    }
   ],
   "source": [
    "import matplotlib.pyplot as plt\n",
    "%matplotlib inline\n",
    "n_students = 100\n",
    "passed_all = 80\n",
    "failed_one = 10\n",
    "failed_two = 7\n",
    "failed_three = 3\n",
    "\n",
    "num_students_not_passed_all = n_students - passed_all\n",
    "prob_failed_none = passed_all / n_students\n",
    "prob_failed_in_one = failed_one/n_students\n",
    "prob_failed_in_two = failed_two/n_students\n",
    "prob_failed_in_three = failed_three/n_students\n",
    "\n",
    "print(\"Probability failed in no subjects: \",prob_failed_none)\n",
    "print(\"Probability failed in 1 subject: \",prob_failed_in_one)\n",
    "print(\"Probability failed in 2 subjects: \",prob_failed_in_two)\n",
    "print(\"Probability failed in 3 subjects: \",prob_failed_in_three)"
   ]
  },
  {
   "cell_type": "code",
   "execution_count": 5,
   "metadata": {},
   "outputs": [
    {
     "data": {
      "text/plain": [
       "Text(0.5, 1, 'PDF/CDF of students w.r.t subjects passed')"
      ]
     },
     "execution_count": 5,
     "metadata": {},
     "output_type": "execute_result"
    },
    {
     "data": {
      "image/png": "[encoded data removed]",
      "text/plain": [
       "<Figure size 864x576 with 1 Axes>"
      ]
     },
     "metadata": {
      "needs_background": "light"
     },
     "output_type": "display_data"
    }
   ],
   "source": [
    "x = [prob_failed_none,prob_failed_in_one,prob_failed_in_two,prob_failed_in_three]\n",
    "counts, bin_edges = np.histogram(x, bins=10, density= True)\n",
    "pdf = counts/(sum(counts))\n",
    "cdf = np.cumsum(pdf)\n",
    "\n",
    "plt.figure(figsize=(12,8))\n",
    "\n",
    "plt.subplot(1, 2, 1)\n",
    "plt.plot(bin_edges[1:], pdf,label=\"PDF\")\n",
    "plt.plot(bin_edges[1:], cdf,label=\"CDF\")\n",
    "plt.legend()\n",
    "plt.tight_layout()\n",
    "plt.title(\"PDF/CDF of students w.r.t subjects passed\")"
   ]
  },
  {
   "cell_type": "markdown",
   "metadata": {},
   "source": [
    "# Task 2:"
   ]
  },
  {
   "cell_type": "code",
   "execution_count": 8,
   "metadata": {},
   "outputs": [],
   "source": [
    "import numpy as np\n",
    "import matplotlib.pyplot as plt\n",
    "from scipy.stats import binom\n",
    "from scipy.special import factorial"
   ]
  },
  {
   "cell_type": "markdown",
   "metadata": {},
   "source": [
    "#  Problem Statement 1: \n",
    "A test is conducted which is consisting of 20 MCQs (multiple choices questions) with every MCQ having its four options out of which only one is correct. Determine the probability that a person undertaking that test has answered exactly 5 questions wrong."
   ]
  },
  {
   "cell_type": "code",
   "execution_count": 9,
   "metadata": {},
   "outputs": [
    {
     "name": "stdout",
     "output_type": "stream",
     "text": [
      "Probability of exactly 5 out of 20 answers incorrect is 0.0000034\n"
     ]
    }
   ],
   "source": [
    "#Let us assume that in an experiment done, ‘n’ is representing the number of trials attempted, \n",
    "#and that ‘k’ is the count of successes that is to be attained in those ‘n’ trials. \n",
    "#This implies that number of failures clearly will be ‘n - k’.\n",
    "\n",
    "n = 20\n",
    "#n - k  = 5\n",
    "failures = 5\n",
    "k = 15 \n",
    "#the probability of success = probability of giving a right answer = p_s\n",
    "p_s = failures / n\n",
    "    \n",
    "#the probability of failure = probability of giving a wrong answer p_f = 1 - p_s \n",
    "p_f = 1 - p_s\n",
    "\n",
    "#we substitute these values in the formula for Binomial distribution we get,\n",
    "#So, P (exactly 5 out of 20 answers incorrect) = C (20, 5) * (1/4)**15 * (3/4)** 5\n",
    "\n",
    "P = (factorial(n) /(factorial(k) * factorial(n - k))) * np.power(p_s,k) * np.power(p_f,failures)\n",
    "\n",
    "print(\"Probability of exactly 5 out of 20 answers incorrect is {:0.7f}\".format(P))"
   ]
  },
  {
   "cell_type": "markdown",
   "metadata": {},
   "source": [
    "# Problem Statement 2: \n",
    "A die marked A to E is rolled 50 times. Find the probability of getting a “D” exactly 5 times."
   ]
  },
  {
   "cell_type": "code",
   "execution_count": 10,
   "metadata": {},
   "outputs": [
    {
     "name": "stdout",
     "output_type": "stream",
     "text": [
      "Probability of getting excatly D in 5 throws out of  50 number of trails conducted is 0.2\n"
     ]
    }
   ],
   "source": [
    "#Let us assume that in an experiment done, ‘n’ is representing the number of trials attempted, \n",
    "#and that ‘k’ is the count of successes that is to be attained in those ‘n’ trials. \n",
    "#This implies that number of failures clearly will be ‘n - k’.\n",
    " \n",
    "#Assuming, ‘s’ to be the probability of succeeding in a trial, we get that the probability of failure is ‘1 - s’.\n",
    "\n",
    "n = 50\n",
    "k =5\n",
    "failures = n - k\n",
    "#The probability of success = probability of getting a “D”\n",
    "p_s = 1/k\n",
    "\n",
    "#Hence, the probability of failure = probability of not getting a “D” = \n",
    "p_f = 1 - p_s \n",
    "\n",
    "\n",
    "print(\"Probability of getting excatly D in {} throws out of  {} number of trails conducted is {}\".format(k,n,p_s))"
   ]
  },
  {
   "cell_type": "markdown",
   "metadata": {},
   "source": [
    "# Problem Statement 3:\n",
    "Two balls are drawn at random in succession without replacement from an urn containing 4 red balls and 6 black balls. Find the probabilities of all the possible outcomes."
   ]
  },
  {
   "cell_type": "code",
   "execution_count": 12,
   "metadata": {},
   "outputs": [
    {
     "ename": "SyntaxError",
     "evalue": "invalid syntax (<ipython-input-12-d8ad15a0176a>, line 23)",
     "output_type": "error",
     "traceback": [
      "\u001b[1;36m  File \u001b[1;32m\"<ipython-input-12-d8ad15a0176a>\"\u001b[1;36m, line \u001b[1;32m23\u001b[0m\n\u001b[1;33m    P_2_r  = (factorial(red_ball) / (factorial(2) * factorial(red_ball - 2))) /\u001b[0m\n\u001b[1;37m                                                                                ^\u001b[0m\n\u001b[1;31mSyntaxError\u001b[0m\u001b[1;31m:\u001b[0m invalid syntax\n"
     ]
    }
   ],
   "source": [
    "red_ball = 4\n",
    "black_ball = 6\n",
    "total_balls = red_ball + black_ball\n",
    "\n",
    "#Sample of possible outcomes  = {R_ballB_ball,B_ballR_ball,B_ballB_bal,R_ballR_ball}\n",
    "\n",
    "#So the chances of picking a red ball  first is  4 out of 10 balls. So the probability is 4/10.\n",
    "p_first_red_ball = red_ball / total_balls\n",
    "\n",
    "#So the chances of picking a black ball second is 6 out of 9 balls. So the probability is 6/9.\n",
    "p_second_black_ball  = black_ball / (total_balls - 1)\n",
    "\n",
    "\n",
    "#So the chances of picking a black ball  first is  6 out of 10 balls. So the probability is 6/10.\n",
    "p_first_black_ball = black_ball / total_balls\n",
    "\n",
    "#So the chances of picking a red ball second is 4 out of 9 balls. So the probability is 4/9.\n",
    "p_second_red_ball  = red_ball / (total_balls - 1)\n",
    "#Probability that both the balls are red is computed here as:\n",
    "#= Total number of ways to select 2 red balls from the 4 red balls / \n",
    "#    Total number of ways to select 2 black  balls from 10 total balls\n",
    "\n",
    "P_2_r  = (factorial(red_ball) / (factorial(2) * factorial(red_ball - 2))) / \n",
    "            (factorial(total_balls) / factorial(2)* factorial(total_balls - 2))\n",
    "\n",
    "#Probability that both the balls are black is computed here as:\n",
    "#= Total number of ways to select 2 black balls from the 6 red balls / \n",
    "#    Total number of ways to select 2 black  balls from 10 total balls\n",
    "\n",
    "P_2_b  = (factorial(black_ball) / (factorial(2) * factorial(black_ball -2))) / \n",
    "        (factorial(total_balls) / factorial(2)* factorial(total_balls - 2))"
   ]
  },
  {
   "cell_type": "code",
   "execution_count": null,
   "metadata": {},
   "outputs": [],
   "source": []
  }
 ],
 "metadata": {
  "kernelspec": {
   "display_name": "Python 3",
   "language": "python",
   "name": "python3"
  },
  "language_info": {
   "codemirror_mode": {
    "name": "ipython",
    "version": 3
   },
   "file_extension": ".py",
   "mimetype": "text/x-python",
   "name": "python",
   "nbconvert_exporter": "python",
   "pygments_lexer": "ipython3",
   "version": "3.7.3"
  }
 },
 "nbformat": 4,
 "nbformat_minor": 2
}
